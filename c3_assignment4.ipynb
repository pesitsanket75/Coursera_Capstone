{
  "nbformat": 4,
  "nbformat_minor": 0,
  "metadata": {
    "colab": {
      "name": "c3-assignment4.ipynb",
      "version": "0.3.2",
      "provenance": []
    },
    "kernelspec": {
      "display_name": "Python 3.5 with Spark 2.1",
      "name": "python3-spark21",
      "language": "python"
    }
  },
  "cells": [
    {
      "metadata": {
        "id": "YQKX66iyOgYk",
        "colab_type": "text"
      },
      "cell_type": "markdown",
      "source": [
        "# Assignment 4\n",
        "## Understaning scaling of linear algebra operations on Apache Spark using Apache SystemML\n",
        "\n",
        "In this assignment we want you to understand how to scale linear algebra operations from a single machine to multiple machines, memory and CPU cores using Apache SystemML. Therefore we want you to understand how to migrate from a numpy program to a SystemML DML program. Don't worry. We will give you a lot of hints. Finally, you won't need this knowledge anyways if you are sticking to Keras only, but once you go beyond that point you'll be happy to see what's going on behind the scenes. As usual, we run some import statements:"
      ]
    },
    {
      "metadata": {
        "id": "EatyR36rOgYm",
        "colab_type": "code",
        "colab": {},
        "outputId": "2883f607-502a-4b4c-f43e-3e0516cf15da"
      },
      "cell_type": "code",
      "source": [
        "!pip install --upgrade systemml"
      ],
      "execution_count": 0,
      "outputs": [
        {
          "output_type": "stream",
          "text": [
            "Requirement already up-to-date: systemml in /gpfs/global_fs01/sym_shared/YPProdSpark/user/s21d-5d99ed86472532-829ddaa28d8f/.local/lib/python3.5/site-packages (1.2.0)\n",
            "Requirement not upgraded as not directly required: numpy>=1.8.2 in /usr/local/src/conda3_runtime.v49/home/envs/DSX-Python35-Spark/lib/python3.5/site-packages (from systemml) (1.13.3)\n",
            "Requirement not upgraded as not directly required: scikit-learn in /usr/local/src/conda3_runtime.v49/home/envs/DSX-Python35-Spark/lib/python3.5/site-packages (from systemml) (0.19.1)\n",
            "Requirement not upgraded as not directly required: scipy>=0.15.1 in /usr/local/src/conda3_runtime.v49/home/envs/DSX-Python35-Spark/lib/python3.5/site-packages (from systemml) (1.0.0)\n",
            "Requirement not upgraded as not directly required: Pillow>=2.0.0 in /usr/local/src/conda3_runtime.v49/home/envs/DSX-Python35-Spark/lib/python3.5/site-packages (from systemml) (4.2.1)\n",
            "Requirement not upgraded as not directly required: pandas in /usr/local/src/conda3_runtime.v49/home/envs/DSX-Python35-Spark/lib/python3.5/site-packages (from systemml) (0.21.0)\n",
            "Requirement not upgraded as not directly required: olefile in /usr/local/src/conda3_runtime.v49/home/envs/DSX-Python35-Spark/lib/python3.5/site-packages (from Pillow>=2.0.0->systemml) (0.44)\n",
            "Requirement not upgraded as not directly required: python-dateutil>=2 in /usr/local/src/conda3_runtime.v49/home/envs/DSX-Python35-Spark/lib/python3.5/site-packages (from pandas->systemml) (2.6.1)\n",
            "Requirement not upgraded as not directly required: pytz>=2011k in /usr/local/src/conda3_runtime.v49/home/envs/DSX-Python35-Spark/lib/python3.5/site-packages (from pandas->systemml) (2018.4)\n",
            "Requirement not upgraded as not directly required: six>=1.5 in /usr/local/src/conda3_runtime.v49/home/envs/DSX-Python35-Spark/lib/python3.5/site-packages (from python-dateutil>=2->pandas->systemml) (1.11.0)\n",
            "\u001b[31mnotebook 5.0.0 requires nbconvert, which is not installed.\u001b[0m\n",
            "\u001b[31mipywidgets 6.0.0 requires widgetsnbextension~=2.0.0, which is not installed.\u001b[0m\n",
            "\u001b[31mtensorflow 1.3.0 requires tensorflow-tensorboard<0.2.0,>=0.1.0, which is not installed.\u001b[0m\n"
          ],
          "name": "stdout"
        }
      ]
    },
    {
      "metadata": {
        "id": "6PI6VCB-OgYs",
        "colab_type": "code",
        "colab": {}
      },
      "cell_type": "code",
      "source": [
        "from systemml import MLContext, dml\n",
        "import numpy as np\n",
        "import time"
      ],
      "execution_count": 0,
      "outputs": []
    },
    {
      "metadata": {
        "id": "fc7JT7FXOgYv",
        "colab_type": "text"
      },
      "cell_type": "markdown",
      "source": [
        "Then we create an MLContext to interface with Apache SystemML. Note that we pass a SparkSession object as parameter so SystemML now knows how to talk to the Apache Spark cluster"
      ]
    },
    {
      "metadata": {
        "id": "2LsBtJBBOgYw",
        "colab_type": "code",
        "colab": {}
      },
      "cell_type": "code",
      "source": [
        "ml = MLContext(spark)"
      ],
      "execution_count": 0,
      "outputs": []
    },
    {
      "metadata": {
        "id": "PQEawFfnOgYz",
        "colab_type": "text"
      },
      "cell_type": "markdown",
      "source": [
        "Now we create some large random matrices to have numpy and SystemML crunch on it"
      ]
    },
    {
      "metadata": {
        "id": "fPL6i_wHOgYz",
        "colab_type": "code",
        "colab": {}
      },
      "cell_type": "code",
      "source": [
        "u = np.random.rand(1000,10000)\n",
        "s = np.random.rand(10000,1000)\n",
        "w = np.random.rand(1000,1000)"
      ],
      "execution_count": 0,
      "outputs": []
    },
    {
      "metadata": {
        "id": "9pixcBPJOgY2",
        "colab_type": "text"
      },
      "cell_type": "markdown",
      "source": [
        "Now we implement a short one-liner to define a very simple linear algebra operation\n",
        "\n",
        "In case you are not familiar with matrix-matrix multiplication: https://en.wikipedia.org/wiki/Matrix_multiplication\n",
        "\n",
        "sum(U' * (W . (U * S)))\n",
        "\n",
        "\n",
        "| Legend        |            |   \n",
        "| ------------- |-------------| \n",
        "| '      | transpose of a matrix | \n",
        "| * | matrix-matrix multiplication      |  \n",
        "| . | scalar multiplication      |   \n",
        "\n"
      ]
    },
    {
      "metadata": {
        "id": "FWNztWHoOgY3",
        "colab_type": "code",
        "colab": {},
        "outputId": "2f532d4a-2f79-4ec5-e947-b43bb6a980a7"
      },
      "cell_type": "code",
      "source": [
        "start = time.time()\n",
        "res = np.sum(u.T.dot(w * u.dot(s)))\n",
        "print (time.time()-start)"
      ],
      "execution_count": 0,
      "outputs": [
        {
          "output_type": "stream",
          "text": [
            "0.5542008876800537\n"
          ],
          "name": "stdout"
        }
      ]
    },
    {
      "metadata": {
        "id": "XyzvZCrKOgY7",
        "colab_type": "text"
      },
      "cell_type": "markdown",
      "source": [
        "As you can see this executes perfectly fine. Note that this is even a very efficient execution because numpy uses a C/C++ backend which is known for it's performance. But what happens if U, S or W get such big that the available main memory cannot cope with it? Let's give it a try:"
      ]
    },
    {
      "metadata": {
        "id": "FkV-qrlgOgY7",
        "colab_type": "code",
        "colab": {}
      },
      "cell_type": "code",
      "source": [
        "u = np.random.rand(10000,100000)\n",
        "s = np.random.rand(100000,10000)\n",
        "w = np.random.rand(10000,10000)"
      ],
      "execution_count": 0,
      "outputs": []
    },
    {
      "metadata": {
        "id": "fPc5ha0ZOgY_",
        "colab_type": "text"
      },
      "cell_type": "markdown",
      "source": [
        "After a short while you should see a memory error. This is because the operating system process was not able to allocate enough memory for storing the numpy array on the heap. Now it's time to re-implement the very same operations as DML in SystemML, and this is your task. Just replace all ###your_code_goes_here sections with proper code, please consider the following table which contains all DML syntax you need:\n",
        "\n",
        "| Syntax        |            |   \n",
        "| ------------- |-------------| \n",
        "| t(M)      | transpose of a matrix, where M is the matrix | \n",
        "| %*% | matrix-matrix multiplication      |  \n",
        "| * | scalar multiplication      |   \n",
        "\n",
        "## Task"
      ]
    },
    {
      "metadata": {
        "id": "Ap4knPtgOgZA",
        "colab_type": "code",
        "colab": {}
      },
      "cell_type": "code",
      "source": [
        "script = \"\"\"\n",
        "res = sum(t(U) %*% (W * (U %*% S)))\n",
        "\"\"\""
      ],
      "execution_count": 0,
      "outputs": []
    },
    {
      "metadata": {
        "id": "JIjhc_HWOgZD",
        "colab_type": "text"
      },
      "cell_type": "markdown",
      "source": [
        "To get consistent results we switch from a random matrix initialization to something deterministic"
      ]
    },
    {
      "metadata": {
        "id": "KL1qkFm0OgZE",
        "colab_type": "code",
        "colab": {}
      },
      "cell_type": "code",
      "source": [
        "u = np.arange(100000).reshape((100, 1000))\n",
        "s = np.arange(100000).reshape((1000, 100))\n",
        "w = np.arange(10000).reshape((100, 100))"
      ],
      "execution_count": 0,
      "outputs": []
    },
    {
      "metadata": {
        "id": "ZC1rHWBdOgZH",
        "colab_type": "code",
        "colab": {},
        "outputId": "4d2badf5-cf86-4cba-ea39-58e3c58dfce6"
      },
      "cell_type": "code",
      "source": [
        "prog = dml(script).input('U', u).input('S', s).input('W', w).output('res')\n",
        "res = ml.execute(prog).get('res')\n",
        "print (res)"
      ],
      "execution_count": 0,
      "outputs": [
        {
          "output_type": "stream",
          "text": [
            "SystemML Statistics:\n",
            "Total execution time:\t\t0.065 sec.\n",
            "Number of executed Spark inst:\t3.\n",
            "\n",
            "\n",
            "1.2526052592176266e+28\n"
          ],
          "name": "stdout"
        }
      ]
    },
    {
      "metadata": {
        "id": "6UY3-HFWOgZK",
        "colab_type": "text"
      },
      "cell_type": "markdown",
      "source": [
        "If everything runs fine you should get *1.25260525922e+28* as result. Feel free to submit your DML script to the grader now!\n",
        "\n",
        "### Submission"
      ]
    },
    {
      "metadata": {
        "id": "s0E6dCRaOgZL",
        "colab_type": "code",
        "colab": {},
        "outputId": "97e5a361-979e-492f-eadf-c351aeb73088"
      },
      "cell_type": "code",
      "source": [
        "!rm -f rklib.py\n",
        "!wget https://raw.githubusercontent.com/romeokienzler/developerWorks/master/coursera/ai/rklib.py"
      ],
      "execution_count": 0,
      "outputs": [
        {
          "output_type": "stream",
          "text": [
            "--2019-02-11 15:59:49--  https://raw.githubusercontent.com/romeokienzler/developerWorks/master/coursera/ai/rklib.py\n",
            "Resolving raw.githubusercontent.com (raw.githubusercontent.com)... 151.101.48.133\n",
            "Connecting to raw.githubusercontent.com (raw.githubusercontent.com)|151.101.48.133|:443... connected.\n",
            "HTTP request sent, awaiting response... 200 OK\n",
            "Length: 2289 (2.2K) [text/plain]\n",
            "Saving to: ‘rklib.py’\n",
            "\n",
            "100%[======================================>] 2,289       --.-K/s   in 0s      \n",
            "\n",
            "2019-02-11 15:59:49 (15.6 MB/s) - ‘rklib.py’ saved [2289/2289]\n",
            "\n"
          ],
          "name": "stdout"
        }
      ]
    },
    {
      "metadata": {
        "id": "Ntx9ABbsOgZO",
        "colab_type": "code",
        "colab": {},
        "outputId": "e607b826-be04-45cd-a784-e05251033956"
      },
      "cell_type": "code",
      "source": [
        "from rklib import submit\n",
        "key = \"*****\"\n",
        "part = \"***\"\n",
        "\n",
        "email = \"annmargaret.tutu@icloud.com\"\n",
        "secret = \"*******\"\n",
        "submit(email, secret, key, part, [part], script)"
      ],
      "execution_count": 0,
      "outputs": [
        {
          "output_type": "stream",
          "text": [
            "Submission successful, please check on the coursera grader page for the status\n",
            "-------------------------\n",
            "{\"elements\":[{\"itemId\":\"P1p3F\",\"id\":\"tE4j0qhMEeecqgpT6QjMdA~P1p3F~Xc1P7i5IEemXUxJLeDYZJA\",\"courseId\":\"tE4j0qhMEeecqgpT6QjMdA\"}],\"paging\":{},\"linked\":{}}\n",
            "-------------------------\n"
          ],
          "name": "stdout"
        }
      ]
    }
  ]
}