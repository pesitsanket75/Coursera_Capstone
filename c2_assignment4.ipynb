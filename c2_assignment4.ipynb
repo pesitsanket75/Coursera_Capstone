{
  "nbformat": 4,
  "nbformat_minor": 0,
  "metadata": {
    "colab": {
      "name": "c2-assignment4.ipynb",
      "version": "0.3.2",
      "provenance": []
    },
    "kernelspec": {
      "display_name": "Python 3.5 with Spark 2.1",
      "name": "python3-spark21",
      "language": "python"
    }
  },
  "cells": [
    {
      "metadata": {
        "id": "OhIaKX1hIUI6",
        "colab_type": "text"
      },
      "cell_type": "markdown",
      "source": [
        "This is the last assignment for the Coursera course \"Advanced Machine Learning and Signal Processing\"\n",
        "\n",
        "Just execute all cells one after the other and you are done - just note that in the last one you should update your email address (the one you've used for coursera) and obtain a submission token, you get this from the programming assignment directly on coursera.\n",
        "\n",
        "Please fill in the sections labelled with \"###YOUR_CODE_GOES_HERE###\"\n",
        "\n",
        "The purpose of this assignment is to learn how feature engineering boosts model performance. You will apply Discrete Fourier Transformation on the accelerometer sensor time series and therefore transforming the dataset from the time to the frequency domain. \n",
        "\n",
        "After that, you’ll use a classification algorithm of your choice to create a model and submit the new predictions to the grader. Done.\n"
      ]
    },
    {
      "metadata": {
        "id": "oln9ok_PIUI7",
        "colab_type": "code",
        "colab": {}
      },
      "cell_type": "code",
      "source": [
        "credentials_1 = {'password':\"\"\"*****\"\"\",\n",
        "                 'custom_url':'****',\n",
        "                 'username':'******' }\n",
        "\n"
      ],
      "execution_count": 0,
      "outputs": []
    },
    {
      "metadata": {
        "id": "tHFdYPQiIUI_",
        "colab_type": "text"
      },
      "cell_type": "markdown",
      "source": [
        "Let's create a SparkSession object and put the Cloudant credentials into it"
      ]
    },
    {
      "metadata": {
        "id": "3xWBf-RrIUI_",
        "colab_type": "code",
        "colab": {}
      },
      "cell_type": "code",
      "source": [
        "spark = SparkSession\\\n",
        "    .builder\\\n",
        "    .appName(\"Cloudant Spark SQL Example in Python using temp tables\")\\\n",
        "    .config(\"cloudant.host\",credentials_1['custom_url'].split('@')[1])\\\n",
        "    .config(\"cloudant.username\", credentials_1['username'])\\\n",
        "    .config(\"cloudant.password\",credentials_1['password'])\\\n",
        "    .getOrCreate()"
      ],
      "execution_count": 0,
      "outputs": []
    },
    {
      "metadata": {
        "id": "op5b0iy1IUJC",
        "colab_type": "text"
      },
      "cell_type": "markdown",
      "source": [
        "Now it’s time to read the sensor data and create a temporary query table."
      ]
    },
    {
      "metadata": {
        "id": "JL6AKcK4IUJD",
        "colab_type": "code",
        "colab": {}
      },
      "cell_type": "code",
      "source": [
        "df=spark.read.load('shake_classification', \"org.apache.bahir.cloudant\")\n",
        "df.createOrReplaceTempView(\"df\")"
      ],
      "execution_count": 0,
      "outputs": []
    },
    {
      "metadata": {
        "id": "Ao4WkxnvIUJF",
        "colab_type": "text"
      },
      "cell_type": "markdown",
      "source": [
        "We need to make sure SystemML is installed.\n"
      ]
    },
    {
      "metadata": {
        "id": "vtCOa2aaIUJG",
        "colab_type": "code",
        "colab": {},
        "outputId": "1c72dc33-d906-4f39-94d9-5b96f577e1f1"
      },
      "cell_type": "code",
      "source": [
        "!pip install systemml"
      ],
      "execution_count": 0,
      "outputs": [
        {
          "output_type": "stream",
          "text": [
            "Collecting systemml\n",
            "\u001b[?25l  Downloading https://files.pythonhosted.org/packages/b1/94/62104cb8c526b462cd501c7319926fb81ac9a5668574a0b3407658a506ab/systemml-1.2.0.tar.gz (9.7MB)\n",
            "\u001b[K    100% |████████████████████████████████| 9.7MB 4.8MB/s eta 0:00:01    38% |████████████▍                   | 3.8MB 59.5MB/s eta 0:00:01\n",
            "\u001b[?25hRequirement already satisfied: numpy>=1.8.2 in /usr/local/src/conda3_runtime.v49/home/envs/DSX-Python35-Spark/lib/python3.5/site-packages (from systemml) (1.13.3)\n",
            "Requirement already satisfied: scipy>=0.15.1 in /usr/local/src/conda3_runtime.v49/home/envs/DSX-Python35-Spark/lib/python3.5/site-packages (from systemml) (1.0.0)\n",
            "Requirement already satisfied: pandas in /usr/local/src/conda3_runtime.v49/home/envs/DSX-Python35-Spark/lib/python3.5/site-packages (from systemml) (0.21.0)\n",
            "Requirement already satisfied: scikit-learn in /usr/local/src/conda3_runtime.v49/home/envs/DSX-Python35-Spark/lib/python3.5/site-packages (from systemml) (0.19.1)\n",
            "Requirement already satisfied: Pillow>=2.0.0 in /usr/local/src/conda3_runtime.v49/home/envs/DSX-Python35-Spark/lib/python3.5/site-packages (from systemml) (4.2.1)\n",
            "Requirement already satisfied: python-dateutil>=2 in /usr/local/src/conda3_runtime.v49/home/envs/DSX-Python35-Spark/lib/python3.5/site-packages (from pandas->systemml) (2.6.1)\n",
            "Requirement already satisfied: pytz>=2011k in /usr/local/src/conda3_runtime.v49/home/envs/DSX-Python35-Spark/lib/python3.5/site-packages (from pandas->systemml) (2018.4)\n",
            "Requirement already satisfied: olefile in /usr/local/src/conda3_runtime.v49/home/envs/DSX-Python35-Spark/lib/python3.5/site-packages (from Pillow>=2.0.0->systemml) (0.44)\n",
            "Requirement already satisfied: six>=1.5 in /usr/local/src/conda3_runtime.v49/home/envs/DSX-Python35-Spark/lib/python3.5/site-packages (from python-dateutil>=2->pandas->systemml) (1.11.0)\n",
            "Building wheels for collected packages: systemml\n",
            "  Running setup.py bdist_wheel for systemml ... \u001b[?25ldone\n",
            "\u001b[?25h  Stored in directory: /gpfs/fs01/user/s21d-5d99ed86472532-829ddaa28d8f/.cache/pip/wheels/cf/07/79/b3ed6f12afe06b2ab55d60dcfd62e66240f5d8c6088a518177\n",
            "Successfully built systemml\n",
            "\u001b[31mnotebook 5.0.0 requires nbconvert, which is not installed.\u001b[0m\n",
            "\u001b[31mipywidgets 6.0.0 requires widgetsnbextension~=2.0.0, which is not installed.\u001b[0m\n",
            "\u001b[31mtensorflow 1.3.0 requires tensorflow-tensorboard<0.2.0,>=0.1.0, which is not installed.\u001b[0m\n",
            "Installing collected packages: systemml\n",
            "Successfully installed systemml-1.2.0\n"
          ],
          "name": "stdout"
        }
      ]
    },
    {
      "metadata": {
        "id": "nH3reAXEIUJK",
        "colab_type": "text"
      },
      "cell_type": "markdown",
      "source": [
        "We’ll use Apache SystemML to implement Discrete Fourier Transformation. This way all computation continues to happen on the Apache Spark cluster for advanced scalability and performance."
      ]
    },
    {
      "metadata": {
        "id": "lfEktDd4IUJL",
        "colab_type": "code",
        "colab": {}
      },
      "cell_type": "code",
      "source": [
        "from systemml import MLContext, dml\n",
        "ml = MLContext(spark)"
      ],
      "execution_count": 0,
      "outputs": []
    },
    {
      "metadata": {
        "id": "SMZLefhMIUJN",
        "colab_type": "text"
      },
      "cell_type": "markdown",
      "source": [
        "As you’ve learned from the lecture, implementing Discrete Fourier Transformation in a linear algebra programming language is simple. Apache SystemML DML is such a language and as you can see the implementation is straightforward and doesn’t differ too much from the mathematical definition (Just note that the sum operator has been swapped with a vector dot product using the %*% syntax borrowed from R\n",
        "):\n",
        "\n",
        "<img style=\"float: left;\" src=\"https://wikimedia.org/api/rest_v1/media/math/render/svg/1af0a78dc50bbf118ab6bd4c4dcc3c4ff8502223\">\n",
        "\n"
      ]
    },
    {
      "metadata": {
        "id": "fb-FC-efIUJO",
        "colab_type": "code",
        "colab": {}
      },
      "cell_type": "code",
      "source": [
        "dml_script = '''\n",
        "PI = 3.141592654\n",
        "N = nrow(signal)\n",
        "\n",
        "n = seq(0, N-1, 1)\n",
        "k = seq(0, N-1, 1)\n",
        "\n",
        "M = (n %*% t(k))*(2*PI/N)\n",
        "\n",
        "Xa = cos(M) %*% signal\n",
        "Xb = sin(M) %*% signal\n",
        "\n",
        "DFT = cbind(Xa, Xb)\n",
        "'''"
      ],
      "execution_count": 0,
      "outputs": []
    },
    {
      "metadata": {
        "id": "tbf_OZuTIUJQ",
        "colab_type": "text"
      },
      "cell_type": "markdown",
      "source": [
        "Now it’s time to create a function which takes a single row Apache Spark data frame as argument (the one containing the accelerometer measurement time series for one axis) and returns the Fourier transformation of it. In addition, we are adding an index column for later joining all axis together and renaming the columns to appropriate names. The result of this function is an Apache Spark DataFrame containing the Fourier Transformation of its input in two columns. \n"
      ]
    },
    {
      "metadata": {
        "id": "cIvImlZkIUJR",
        "colab_type": "code",
        "colab": {}
      },
      "cell_type": "code",
      "source": [
        "from pyspark.sql.functions import monotonically_increasing_id\n",
        "\n",
        "def dft_systemml(signal,name):\n",
        "    prog = dml(dml_script).input('signal', signal).output('DFT')\n",
        "    \n",
        "    return (\n",
        "\n",
        "    #execute the script inside the SystemML engine running on top of Apache Spark\n",
        "    ml.execute(prog) \n",
        "     \n",
        "         #read result from SystemML execution back as SystemML Matrix\n",
        "        .get('DFT') \n",
        "     \n",
        "         #convert SystemML Matrix to ApacheSpark DataFrame \n",
        "        .toDF() \n",
        "     \n",
        "         #rename default column names\n",
        "        .selectExpr('C1 as %sa' % (name), 'C2 as %sb' % (name)) \n",
        "     \n",
        "         #add unique ID per row for later joining\n",
        "        .withColumn(\"id\", monotonically_increasing_id())\n",
        "    )\n",
        "        \n",
        "\n",
        "\n"
      ],
      "execution_count": 0,
      "outputs": []
    },
    {
      "metadata": {
        "id": "kgZIgK4eIUJV",
        "colab_type": "text"
      },
      "cell_type": "markdown",
      "source": [
        "Now it’s time to create DataFrames containing for each accelerometer sensor axis and one for each class. This means you’ll get 6 DataFrames. Please implement this using the relational API of DataFrames or SparkSQL.\n"
      ]
    },
    {
      "metadata": {
        "id": "amIEuFNvIUJW",
        "colab_type": "code",
        "colab": {}
      },
      "cell_type": "code",
      "source": [
        "x0 = spark.sql(\"SELECT X from df where class = 0\")\n",
        "y0 = spark.sql(\"SELECT Y from df where class = 0\")\n",
        "z0 = spark.sql(\"SELECT Z from df where class = 0\")\n",
        "x1 = spark.sql(\"SELECT X from df where class = 1\")\n",
        "y1 = spark.sql(\"SELECT Y from df where class = 1\")\n",
        "z1 = spark.sql(\"SELECT Z from df where class = 1\")"
      ],
      "execution_count": 0,
      "outputs": []
    },
    {
      "metadata": {
        "id": "6lIv-anDIUJY",
        "colab_type": "text"
      },
      "cell_type": "markdown",
      "source": [
        "Since we’ve created this cool DFT function before, we can just call it for each of the 6 DataFrames now. And since the result of this function call is a DataFrame again we can use the pyspark best practice in simply calling methods on it sequentially. So what we are doing is the following:\n",
        "\n",
        "- Calling DFT for each class and accelerometer sensor axis.\n",
        "- Joining them together on the ID column. \n",
        "- Re-adding a column containing the class index.\n",
        "- Stacking both Dataframes for each classes together\n",
        "\n"
      ]
    },
    {
      "metadata": {
        "id": "HJ-iAJ0ZIUJZ",
        "colab_type": "code",
        "colab": {},
        "outputId": "559c1121-b742-46bd-ac84-1426db5bd10d"
      },
      "cell_type": "code",
      "source": [
        "from pyspark.sql.functions import lit\n",
        "\n",
        "df_class_0 = dft_systemml(x0,'x') \\\n",
        "    .join(dft_systemml(y0,'y'), on=['id'], how='inner') \\\n",
        "    .join(dft_systemml(z0,'z'), on=['id'], how='inner') \\\n",
        "    .withColumn('class', lit(0))\n",
        "    \n",
        "df_class_1 = dft_systemml(x1,'x') \\\n",
        "    .join(dft_systemml(y1,'y'), on=['id'], how='inner') \\\n",
        "    .join(dft_systemml(z1,'z'), on=['id'], how='inner') \\\n",
        "    .withColumn('class', lit(1))\n",
        "\n",
        "df_dft = df_class_0.union(df_class_1)\n",
        "\n",
        "df_dft.show()"
      ],
      "execution_count": 0,
      "outputs": [
        {
          "output_type": "stream",
          "text": [
            "[Stage 3:=================>                                        (3 + 5) / 10]\n",
            "[Stage 3:==================================>                       (6 + 4) / 10]\n",
            "[Stage 3:====================================================>     (9 + 1) / 10]\n",
            "SystemML Statistics:\n",
            "Total execution time:\t\t4.170 sec.\n",
            "Number of executed Spark inst:\t0.\n",
            "\n",
            "                                                                                \n",
            "\n",
            "[Stage 7:>                                                         (0 + 5) / 10]\n",
            "[Stage 7:===========>                                              (2 + 6) / 10]\n",
            "[Stage 7:=============================>                            (5 + 5) / 10]\n",
            "[Stage 7:========================================>                 (7 + 3) / 10]\n",
            "SystemML Statistics:\n",
            "Total execution time:\t\t4.709 sec.\n",
            "Number of executed Spark inst:\t0.\n",
            "\n",
            "                                                                                \n",
            "\n",
            "[Stage 11:>                                                        (0 + 5) / 10]\n",
            "[Stage 11:===========>                                             (2 + 7) / 10]\n",
            "[Stage 11:============================>                            (5 + 5) / 10]\n",
            "[Stage 11:=============================================>           (8 + 2) / 10]\n",
            "SystemML Statistics:\n",
            "Total execution time:\t\t4.666 sec.\n",
            "Number of executed Spark inst:\t0.\n",
            "\n",
            "                                                                                \n",
            "\n",
            "[Stage 15:=====>                                                   (1 + 5) / 10]\n",
            "[Stage 15:======================>                                  (4 + 5) / 10]\n",
            "[Stage 15:============================>                            (5 + 5) / 10]\n",
            "[Stage 15:=======================================>                 (7 + 3) / 10]\n",
            "SystemML Statistics:\n",
            "Total execution time:\t\t4.614 sec.\n",
            "Number of executed Spark inst:\t0.\n",
            "\n",
            "                                                                                \n",
            "\n",
            "[Stage 19:>                                                        (0 + 5) / 10]\n",
            "[Stage 19:===========>                                             (2 + 5) / 10]\n",
            "[Stage 19:============================>                            (5 + 5) / 10]\n",
            "[Stage 19:=============================================>           (8 + 2) / 10]\n",
            "SystemML Statistics:\n",
            "Total execution time:\t\t4.542 sec.\n",
            "Number of executed Spark inst:\t0.\n",
            "\n",
            "                                                                                \n",
            "\n",
            "[Stage 23:=====>                                                   (1 + 5) / 10]\n",
            "[Stage 23:=================>                                       (3 + 7) / 10]\n",
            "[Stage 23:============================>                            (5 + 5) / 10]\n",
            "[Stage 23:=======================================>                 (7 + 3) / 10]\n",
            "SystemML Statistics:\n",
            "Total execution time:\t\t4.150 sec.\n",
            "Number of executed Spark inst:\t0.\n",
            "\n",
            "                                                                                \n",
            "\n",
            "+-----------+-------------------+-------------------+-------------------+-------------------+-------------------+-------------------+-----+\n",
            "|         id|                 xa|                 xb|                 ya|                 yb|                 za|                 zb|class|\n",
            "+-----------+-------------------+-------------------+-------------------+-------------------+-------------------+-------------------+-----+\n",
            "|         26| 380.66434005495194|-137.07822473828313| -139.3470983812975|  22.67267886239656|-247.93697521077704|-15.169114611846743|    0|\n",
            "|         29| 104.74324299209692| -92.43964309825088| -32.27421440203938|  39.39162630938283|-25.105013725863852|  95.46710868338275|    0|\n",
            "| 8589934658| 118.11469236129976| 108.41783122465924| 45.916682927433534|-100.51332423299549| -87.97203782706572|-117.02418556502424|    0|\n",
            "|34359738398| 246.55394030642543| 1.1622803322039197|-0.6122810693132044| 20.485202681642807|-398.18662513951506| -77.42192157043358|    0|\n",
            "|         65|  63.87029398060224|-23.265399814702082|   86.4948713877132|-164.00667588311643| -27.08808482866487| 13.263168576143944|    0|\n",
            "|17179869191|  194.3427707998309| -316.7481670050376| 3.8257597415912574| 112.67028260589058|-113.44291036393975|  362.3814153456608|    0|\n",
            "|25769803846|  99.52395650164058| -10.83253087152682| -20.62401912177267|-27.980764045264472| -50.76715322439979|  82.91093327872977|    0|\n",
            "|25769803859| 103.40529995468538| -49.57480845030651| -58.86799370919875| 15.232180966886684|-126.44224970584519|  298.8384380206169|    0|\n",
            "|34359738457|-134.42325637881774| -92.92244857833857|  54.87216559535315| 27.865362906208638| 1.9219417329206383|  56.31609239486009|    0|\n",
            "|17179869241|-190.32584900181487| 0.7033493374292548|  234.7849657520335| 138.64228671999092|-206.34483804019288|-462.16358594322344|    0|\n",
            "|25769803830| 178.62396382387422| 12.210264906816244| -47.07529438881511| 36.021951031648726|  84.38310769821979| -90.53421655300514|    0|\n",
            "|25769803831|  85.03128805189493| -87.23244830757703|-4.3024316644854546| 121.74206519976937|-1.1841857567516714|-149.82403850455344|    0|\n",
            "|34359738411| 26.786262674736566|-147.73543032180203| -46.33193951911338|  57.30528706990746| 20.880756008396055|  207.8509688546836|    0|\n",
            "| 8589934592|-16.203752396859194| 124.12824424562811| 51.080957032176954|-103.20661972727325| -96.80526656416971|  86.42869274415222|    0|\n",
            "|25769803852|   47.2048142440404|-7.6015754576555326|  -78.2950899652916|  45.50619097515687| 181.99604091494786| -49.19719944014025|    0|\n",
            "|34359738369| 15.608872398939273|    182.73455369399| -79.90322809181754| -59.15318378251592|  69.62150711098005| 166.81794542619377|    0|\n",
            "|         19|-4.8281721129789315|  2.679719393622685| -67.38050508399905|-121.43319852417976| 221.24876396496404|  244.5936034517266|    0|\n",
            "|         54| -98.40725712852762|  66.69705767156957|-19.989364074314732| 12.052256778125606|  -302.695196085276|-3.1504811156904466|    0|\n",
            "|17179869313| 22.835845394816594| 25.738253175802967|   17.1633660118843|-120.10800802052029| 32.877914832011385|  168.3218108961274|    0|\n",
            "|34359738454|  84.20178070080324|-193.20790169619767| -32.81572075916947|  75.83230605730496| -48.63517643958031| 10.004063312485457|    0|\n",
            "+-----------+-------------------+-------------------+-------------------+-------------------+-------------------+-------------------+-----+\n",
            "only showing top 20 rows\n",
            "\n"
          ],
          "name": "stdout"
        }
      ]
    },
    {
      "metadata": {
        "id": "uG9-fzz4IUJc",
        "colab_type": "text"
      },
      "cell_type": "markdown",
      "source": [
        "Please create a VectorAssembler which consumes the newly created DFT columns and produces a column “features”\n"
      ]
    },
    {
      "metadata": {
        "id": "Uq4GjVglIUJc",
        "colab_type": "code",
        "colab": {}
      },
      "cell_type": "code",
      "source": [
        "from pyspark.ml.feature import VectorAssembler\n",
        "vectorAssembler = VectorAssembler(\n",
        "    inputCols=[\"xa\", \"xb\", \"ya\", \"yb\", \"za\", \"zb\"],\n",
        "    outputCol=\"features\")"
      ],
      "execution_count": 0,
      "outputs": []
    },
    {
      "metadata": {
        "id": "JdW68QBnIUJe",
        "colab_type": "text"
      },
      "cell_type": "markdown",
      "source": [
        "Please insatiate a classifier from the SparkML package and assign it to the classifier variable. Make sure to set the “class” column as target.\n"
      ]
    },
    {
      "metadata": {
        "id": "jHvFTXEYIUJf",
        "colab_type": "code",
        "colab": {}
      },
      "cell_type": "code",
      "source": [
        "from pyspark.ml.classification import RandomForestClassifier\n",
        "classifier = RandomForestClassifier(labelCol=\"class\", featuresCol=\"features\", numTrees=10)"
      ],
      "execution_count": 0,
      "outputs": []
    },
    {
      "metadata": {
        "id": "ZJSlAbgoIUJh",
        "colab_type": "text"
      },
      "cell_type": "markdown",
      "source": [
        "Let’s train and evaluate…\n"
      ]
    },
    {
      "metadata": {
        "id": "M0rx5_LjIUJi",
        "colab_type": "code",
        "colab": {}
      },
      "cell_type": "code",
      "source": [
        "from pyspark.ml import Pipeline\n",
        "pipeline = Pipeline(stages=[vectorAssembler, classifier])"
      ],
      "execution_count": 0,
      "outputs": []
    },
    {
      "metadata": {
        "id": "PMbhPJcJIUJk",
        "colab_type": "code",
        "colab": {}
      },
      "cell_type": "code",
      "source": [
        "model = pipeline.fit(df_dft)"
      ],
      "execution_count": 0,
      "outputs": []
    },
    {
      "metadata": {
        "id": "8rdNV_3mIUJn",
        "colab_type": "code",
        "colab": {}
      },
      "cell_type": "code",
      "source": [
        "prediction = model.transform(df_dft)"
      ],
      "execution_count": 0,
      "outputs": []
    },
    {
      "metadata": {
        "id": "y18kdvshIUJr",
        "colab_type": "code",
        "colab": {},
        "outputId": "e80c44b5-1948-4eec-c352-bf2a4f75f414"
      },
      "cell_type": "code",
      "source": [
        "prediction.show()"
      ],
      "execution_count": 0,
      "outputs": [
        {
          "output_type": "stream",
          "text": [
            "+-----------+-------------------+-------------------+-------------------+-------------------+-------------------+-------------------+-----+--------------------+--------------------+--------------------+----------+\n",
            "|         id|                 xa|                 xb|                 ya|                 yb|                 za|                 zb|class|            features|       rawPrediction|         probability|prediction|\n",
            "+-----------+-------------------+-------------------+-------------------+-------------------+-------------------+-------------------+-----+--------------------+--------------------+--------------------+----------+\n",
            "|         26| 380.66434005495194|-137.07822473828313| -139.3470983812975|  22.67267886239656|-247.93697521077704|-15.169114611846743|    0|[380.664340054951...|          [10.0,0.0]|           [1.0,0.0]|       0.0|\n",
            "|         29| 104.74324299209692| -92.43964309825088| -32.27421440203938|  39.39162630938283|-25.105013725863852|  95.46710868338275|    0|[104.743242992096...|          [10.0,0.0]|           [1.0,0.0]|       0.0|\n",
            "| 8589934658| 118.11469236129976| 108.41783122465924| 45.916682927433534|-100.51332423299549| -87.97203782706572|-117.02418556502424|    0|[118.114692361299...|          [10.0,0.0]|           [1.0,0.0]|       0.0|\n",
            "|34359738398| 246.55394030642543| 1.1622803322039197|-0.6122810693132044| 20.485202681642807|-398.18662513951506| -77.42192157043358|    0|[246.553940306425...|          [10.0,0.0]|           [1.0,0.0]|       0.0|\n",
            "|         65|  63.87029398060224|-23.265399814702082|   86.4948713877132|-164.00667588311643| -27.08808482866487| 13.263168576143944|    0|[63.8702939806022...|[9.01676829268292...|[0.90167682926829...|       0.0|\n",
            "|17179869191|  194.3427707998309| -316.7481670050376| 3.8257597415912574| 112.67028260589058|-113.44291036393975|  362.3814153456608|    0|[194.342770799830...|          [10.0,0.0]|           [1.0,0.0]|       0.0|\n",
            "|25769803846|  99.52395650164058| -10.83253087152682| -20.62401912177267|-27.980764045264472| -50.76715322439979|  82.91093327872977|    0|[99.5239565016405...|          [10.0,0.0]|           [1.0,0.0]|       0.0|\n",
            "|25769803859| 103.40529995468538| -49.57480845030651| -58.86799370919875| 15.232180966886684|-126.44224970584519|  298.8384380206169|    0|[103.405299954685...|          [10.0,0.0]|           [1.0,0.0]|       0.0|\n",
            "|34359738457|-134.42325637881774| -92.92244857833857|  54.87216559535315| 27.865362906208638| 1.9219417329206383|  56.31609239486009|    0|[-134.42325637881...|          [10.0,0.0]|           [1.0,0.0]|       0.0|\n",
            "|17179869241|-190.32584900181487| 0.7033493374292548|  234.7849657520335| 138.64228671999092|-206.34483804019288|-462.16358594322344|    0|[-190.32584900181...|          [10.0,0.0]|           [1.0,0.0]|       0.0|\n",
            "|25769803830| 178.62396382387422| 12.210264906816244| -47.07529438881511| 36.021951031648726|  84.38310769821979| -90.53421655300514|    0|[178.623963823874...|          [10.0,0.0]|           [1.0,0.0]|       0.0|\n",
            "|25769803831|  85.03128805189493| -87.23244830757703|-4.3024316644854546| 121.74206519976937|-1.1841857567516714|-149.82403850455344|    0|[85.0312880518949...|          [10.0,0.0]|           [1.0,0.0]|       0.0|\n",
            "|34359738411| 26.786262674736566|-147.73543032180203| -46.33193951911338|  57.30528706990746| 20.880756008396055|  207.8509688546836|    0|[26.7862626747365...|          [10.0,0.0]|           [1.0,0.0]|       0.0|\n",
            "| 8589934592|-16.203752396859194| 124.12824424562811| 51.080957032176954|-103.20661972727325| -96.80526656416971|  86.42869274415222|    0|[-16.203752396859...|          [10.0,0.0]|           [1.0,0.0]|       0.0|\n",
            "|25769803852|   47.2048142440404|-7.6015754576555326|  -78.2950899652916|  45.50619097515687| 181.99604091494786| -49.19719944014025|    0|[47.2048142440404...|          [10.0,0.0]|           [1.0,0.0]|       0.0|\n",
            "|34359738369| 15.608872398939273|    182.73455369399| -79.90322809181754| -59.15318378251592|  69.62150711098005| 166.81794542619377|    0|[15.6088723989392...|          [10.0,0.0]|           [1.0,0.0]|       0.0|\n",
            "|         19|-4.8281721129789315|  2.679719393622685| -67.38050508399905|-121.43319852417976| 221.24876396496404|  244.5936034517266|    0|[-4.8281721129789...|         [9.75,0.25]|       [0.975,0.025]|       0.0|\n",
            "|         54| -98.40725712852762|  66.69705767156957|-19.989364074314732| 12.052256778125606|  -302.695196085276|-3.1504811156904466|    0|[-98.407257128527...|          [10.0,0.0]|           [1.0,0.0]|       0.0|\n",
            "|17179869313| 22.835845394816594| 25.738253175802967|   17.1633660118843|-120.10800802052029| 32.877914832011385|  168.3218108961274|    0|[22.8358453948165...|          [10.0,0.0]|           [1.0,0.0]|       0.0|\n",
            "|34359738454|  84.20178070080324|-193.20790169619767| -32.81572075916947|  75.83230605730496| -48.63517643958031| 10.004063312485457|    0|[84.2017807008032...|          [10.0,0.0]|           [1.0,0.0]|       0.0|\n",
            "+-----------+-------------------+-------------------+-------------------+-------------------+-------------------+-------------------+-----+--------------------+--------------------+--------------------+----------+\n",
            "only showing top 20 rows\n",
            "\n"
          ],
          "name": "stdout"
        }
      ]
    },
    {
      "metadata": {
        "id": "jEnY8J3-IUJw",
        "colab_type": "code",
        "colab": {},
        "outputId": "780213c4-6162-4af5-fdf0-b218eee070d1"
      },
      "cell_type": "code",
      "source": [
        "from pyspark.ml.evaluation import MulticlassClassificationEvaluator\n",
        "binEval = MulticlassClassificationEvaluator().setMetricName(\"accuracy\") .setPredictionCol(\"prediction\").setLabelCol(\"class\")\n",
        "    \n",
        "binEval.evaluate(prediction) "
      ],
      "execution_count": 0,
      "outputs": [
        {
          "output_type": "execute_result",
          "data": {
            "text/plain": [
              "1.0"
            ]
          },
          "metadata": {
            "tags": []
          },
          "execution_count": 17
        }
      ]
    },
    {
      "metadata": {
        "id": "Xy89wTw0IUJz",
        "colab_type": "text"
      },
      "cell_type": "markdown",
      "source": [
        "If you are happy with the result (I’m happy with > 0.8) please submit your solution to the grader by executing the following cells, please don’t forget to obtain an assignment submission token (secret) from the Courera’s graders web page and paste it to the “secret” variable below, including your email address you’ve used for Coursera. \n"
      ]
    },
    {
      "metadata": {
        "id": "HOCrND-dIUJ0",
        "colab_type": "code",
        "colab": {}
      },
      "cell_type": "code",
      "source": [
        "!rm -Rf a2_m4.parquet"
      ],
      "execution_count": 0,
      "outputs": []
    },
    {
      "metadata": {
        "id": "CGbhaX_7IUJ3",
        "colab_type": "code",
        "colab": {}
      },
      "cell_type": "code",
      "source": [
        "prediction = prediction.repartition(1)\n",
        "prediction.write.json('a2_m4.json')"
      ],
      "execution_count": 0,
      "outputs": []
    },
    {
      "metadata": {
        "id": "2ZmTAfAfIUJ6",
        "colab_type": "code",
        "colab": {},
        "outputId": "dc717a1f-7c7d-4f78-abd9-a2a39c21ec3f"
      },
      "cell_type": "code",
      "source": [
        "!rm -f rklib.py\n",
        "!wget https://raw.githubusercontent.com/romeokienzler/developerWorks/master/coursera/ai/rklib.py"
      ],
      "execution_count": 0,
      "outputs": [
        {
          "output_type": "stream",
          "text": [
            "--2019-02-11 14:22:33--  https://raw.githubusercontent.com/romeokienzler/developerWorks/master/coursera/ai/rklib.py\r\n",
            "Resolving raw.githubusercontent.com (raw.githubusercontent.com)... 151.101.48.133\r\n",
            "Connecting to raw.githubusercontent.com (raw.githubusercontent.com)|151.101.48.133|:443... connected.\r\n",
            "HTTP request sent, awaiting response... 200 OK\r\n",
            "Length: 2289 (2.2K) [text/plain]\r\n",
            "Saving to: ‘rklib.py’\r\n",
            "\r\n",
            "\r 0% [                                       ] 0           --.-K/s              \r100%[======================================>] 2,289       --.-K/s   in 0s      \r\n",
            "\r\n",
            "2019-02-11 14:22:33 (13.8 MB/s) - ‘rklib.py’ saved [2289/2289]\r\n",
            "\r\n"
          ],
          "name": "stdout"
        }
      ]
    },
    {
      "metadata": {
        "id": "n13-_sWKIUJ9",
        "colab_type": "code",
        "colab": {},
        "outputId": "fd6d16d9-8ddd-4349-d73f-41696cb9d43f"
      },
      "cell_type": "code",
      "source": [
        "!zip -r a2_m4.json.zip a2_m4.json"
      ],
      "execution_count": 0,
      "outputs": [
        {
          "output_type": "stream",
          "text": [
            "  adding: a2_m4.json/ (stored 0%)\r\n",
            "  adding: a2_m4.json/_SUCCESS (stored 0%)\r\n",
            "  adding: a2_m4.json/._SUCCESS.crc (stored 0%)\r\n",
            "  adding: a2_m4.json/part-00000-e6ed1da6-f4b2-4a83-a305-1395dcb05426.json (deflated 80%)\r\n",
            "  adding: a2_m4.json/.part-00000-e6ed1da6-f4b2-4a83-a305-1395dcb05426.json.crc (stored 0%)\r\n"
          ],
          "name": "stdout"
        }
      ]
    },
    {
      "metadata": {
        "id": "8eQl3BqHIUJ_",
        "colab_type": "code",
        "colab": {}
      },
      "cell_type": "code",
      "source": [
        "!base64 a2_m4.json.zip > a2_m4.json.zip.base64"
      ],
      "execution_count": 0,
      "outputs": []
    },
    {
      "metadata": {
        "id": "a_rNHSDhIUKD",
        "colab_type": "code",
        "colab": {},
        "outputId": "dc83aea0-9e35-4668-b5b7-fb86d30022b9"
      },
      "cell_type": "code",
      "source": [
        "from rklib import submit\n",
        "key = \"******\"\n",
        "part = \"*****\"\n",
        "email = \"annmargaret.tutu@icloud.com\" #\"romeo.kienzler@ch.ibm.com\"\n",
        "secret = \"*****\"\n",
        "\n",
        "with open('a2_m4.json.zip.base64', 'r') as myfile:\n",
        "    data=myfile.read()\n",
        "submit(email, secret, key, part, [part], data)"
      ],
      "execution_count": 0,
      "outputs": [
        {
          "output_type": "stream",
          "text": [
            "Submission successful, please check on the coursera grader page for the status\n",
            "-------------------------\n",
            "{\"elements\":[{\"itemId\":\"B8wXV\",\"id\":\"f_F-qCtuEei_fRLwaVDk3g~B8wXV~ztyEui46Eempogq4ugoMgA\",\"courseId\":\"f_F-qCtuEei_fRLwaVDk3g\"}],\"paging\":{},\"linked\":{}}\n",
            "-------------------------\n"
          ],
          "name": "stdout"
        }
      ]
    }
  ]
}