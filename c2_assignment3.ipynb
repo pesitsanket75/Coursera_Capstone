{
  "nbformat": 4,
  "nbformat_minor": 0,
  "metadata": {
    "colab": {
      "name": "c2-assignment3.ipynb",
      "version": "0.3.2",
      "provenance": []
    },
    "kernelspec": {
      "display_name": "Python 3.5 with Spark 2.1",
      "name": "python3-spark21",
      "language": "python"
    }
  },
  "cells": [
    {
      "metadata": {
        "id": "w4J3ayPdH0Qd",
        "colab_type": "text"
      },
      "cell_type": "markdown",
      "source": [
        "This is the third assignment for the Coursera course \"Advanced Machine Learning and Signal Processing\"\n",
        "\n",
        "Just execute all cells one after the other and you are done - just note that in the last one you must update your email address (the one you've used for coursera) and obtain a submission token, you get this from the programming assignment directly on coursera.\n",
        "\n",
        "Please fill in the sections labelled with \"###YOUR_CODE_GOES_HERE###\"\n"
      ]
    },
    {
      "metadata": {
        "id": "MsX6jbyRH0Qe",
        "colab_type": "code",
        "colab": {}
      },
      "cell_type": "code",
      "source": [
        "credentials_1 = {'password':\"\"\"*****\"\"\",\n",
        "                 'custom_url':'*****',\n",
        "                 'username':'*****' }\n",
        "\n"
      ],
      "execution_count": 0,
      "outputs": []
    },
    {
      "metadata": {
        "id": "ufYLKh3KH0Qi",
        "colab_type": "text"
      },
      "cell_type": "markdown",
      "source": [
        "Let's create a SparkSession object and put the Cloudant credentials into it"
      ]
    },
    {
      "metadata": {
        "id": "wN7NJaJ0H0Qj",
        "colab_type": "code",
        "colab": {}
      },
      "cell_type": "code",
      "source": [
        "spark = SparkSession\\\n",
        "    .builder\\\n",
        "    .appName(\"Cloudant Spark SQL Example in Python using temp tables\")\\\n",
        "    .config(\"cloudant.host\",credentials_1['custom_url'].split('@')[1])\\\n",
        "    .config(\"cloudant.username\", credentials_1['username'])\\\n",
        "    .config(\"cloudant.password\",credentials_1['password'])\\\n",
        "    .getOrCreate()"
      ],
      "execution_count": 0,
      "outputs": []
    },
    {
      "metadata": {
        "id": "v3FIsHdLH0Ql",
        "colab_type": "text"
      },
      "cell_type": "markdown",
      "source": [
        "Now it’s time to have a look at the recorded sensor data. You should see data similar to the one exemplified below….\n"
      ]
    },
    {
      "metadata": {
        "id": "UDVaMiOlH0Qm",
        "colab_type": "code",
        "colab": {},
        "outputId": "c521b5cd-7532-47be-f88c-1ca5339b861b"
      },
      "cell_type": "code",
      "source": [
        "df=spark.read.load('shake_classification', \"org.apache.bahir.cloudant\")\n",
        "\n",
        "df.createOrReplaceTempView(\"df\")\n",
        "spark.sql(\"SELECT * from df\").show()\n"
      ],
      "execution_count": 0,
      "outputs": [
        {
          "output_type": "stream",
          "text": [
            "+-----+--------+-----+-----+-----+--------------------+--------------------+\n",
            "|CLASS|SENSORID|    X|    Y|    Z|                 _id|                _rev|\n",
            "+-----+--------+-----+-----+-----+--------------------+--------------------+\n",
            "|    1|aaaaaaaa|-0.01|-0.03|-0.09|3492765e6ac38cd24...|1-2c827a2b55caa1e...|\n",
            "|    1|aaaaaaaa|-0.01|  0.0| -0.1|3492765e6ac38cd24...|1-86ceff170907fc5...|\n",
            "|    1|aaaaaaaa| 0.01|  0.0|-0.07|3492765e6ac38cd24...|1-22ba2f3ccff5cde...|\n",
            "|    1|aaaaaaaa|-0.01|  0.0|-0.08|3492765e6ac38cd24...|1-978a5470abb20cb...|\n",
            "|    1|aaaaaaaa| 0.01|  0.0|-0.06|3492765e6ac38cd24...|1-96f8550e65d9c9f...|\n",
            "|    1|aaaaaaaa|  0.0|  0.0|-0.09|3492765e6ac38cd24...|1-1f5ca0558b17a16...|\n",
            "|    1|aaaaaaaa| 0.01|  0.0|-0.07|3492765e6ac38cd24...|1-22ba2f3ccff5cde...|\n",
            "|    1|aaaaaaaa|  0.0|  0.0|-0.07|3492765e6ac38cd24...|1-8fe62ca7a975b42...|\n",
            "|    1|aaaaaaaa|  0.0|  0.0|-0.07|3492765e6ac38cd24...|1-8fe62ca7a975b42...|\n",
            "|    1|aaaaaaaa|-0.01|  0.0|-0.08|3492765e6ac38cd24...|1-978a5470abb20cb...|\n",
            "|    1|aaaaaaaa|-0.01|  0.0|-0.07|3492765e6ac38cd24...|1-f832f3e3ebca79e...|\n",
            "|    1|aaaaaaaa|-0.01|  0.0|-0.08|3492765e6ac38cd24...|1-978a5470abb20cb...|\n",
            "|    1|aaaaaaaa|  0.0|  0.0|-0.03|3492765e6ac38cd24...|1-b97b1b727cf555a...|\n",
            "|    1|aaaaaaaa|  0.0|  0.0|-0.07|3492765e6ac38cd24...|1-8fe62ca7a975b42...|\n",
            "|    1|aaaaaaaa|  0.0|  0.0|-0.06|3492765e6ac38cd24...|1-d3b0e14168e40fe...|\n",
            "|    1|aaaaaaaa|  0.0|  0.0|-0.07|3492765e6ac38cd24...|1-8fe62ca7a975b42...|\n",
            "|    1|aaaaaaaa|  0.0|  0.0|-0.06|3492765e6ac38cd24...|1-d3b0e14168e40fe...|\n",
            "|    1|aaaaaaaa|  0.0| 0.01|-0.07|3492765e6ac38cd24...|1-d68a173406aaee5...|\n",
            "|    1|aaaaaaaa|  0.0| 0.01|-0.06|3492765e6ac38cd24...|1-7e1dc166132725a...|\n",
            "|    1|aaaaaaaa|-0.01| 0.01|-0.04|3492765e6ac38cd24...|1-ef71fffeed77756...|\n",
            "+-----+--------+-----+-----+-----+--------------------+--------------------+\n",
            "only showing top 20 rows\n",
            "\n"
          ],
          "name": "stdout"
        }
      ]
    },
    {
      "metadata": {
        "id": "DomGrTeaH0Qr",
        "colab_type": "text"
      },
      "cell_type": "markdown",
      "source": [
        "Let’s check if we have balanced classes – this means that we have roughly the same number of examples for each class we want to predict. This is important for classification but also helpful for clustering"
      ]
    },
    {
      "metadata": {
        "id": "JPh2c-DpH0Qr",
        "colab_type": "code",
        "colab": {},
        "outputId": "f502816d-17be-42bc-9241-c3714446dd89"
      },
      "cell_type": "code",
      "source": [
        "spark.sql(\"SELECT count(class), class from df group by class\").show()"
      ],
      "execution_count": 0,
      "outputs": [
        {
          "output_type": "stream",
          "text": [
            "+------------+-----+\n",
            "|count(class)|class|\n",
            "+------------+-----+\n",
            "|         813|    0|\n",
            "|         708|    1|\n",
            "+------------+-----+\n",
            "\n"
          ],
          "name": "stdout"
        }
      ]
    },
    {
      "metadata": {
        "id": "Ucgjjo6zH0Qv",
        "colab_type": "text"
      },
      "cell_type": "markdown",
      "source": [
        "Let's create a VectorAssembler which consumes columns X, Y and Z and produces a column “features”\n"
      ]
    },
    {
      "metadata": {
        "id": "y_iCDzleH0Qw",
        "colab_type": "code",
        "colab": {}
      },
      "cell_type": "code",
      "source": [
        "from pyspark.ml.feature import VectorAssembler\n",
        "vectorAssembler = VectorAssembler(inputCols=[\"X\",\"Y\",\"Z\"],\n",
        "                                  outputCol=\"features\")"
      ],
      "execution_count": 0,
      "outputs": []
    },
    {
      "metadata": {
        "id": "94KnL8Y0H0Qy",
        "colab_type": "text"
      },
      "cell_type": "markdown",
      "source": [
        "Please insatiate a clustering algorithm from the SparkML package and assign it to the clust variable. Here we don’t need to take care of the “CLASS” column since we are in unsupervised learning mode – so let’s pretend to not even have the “CLASS” column for now – but it will become very handy later in assessing the clustering performance. PLEASE NOTE – IN REAL-WORLD SCENARIOS THERE IS NO CLASS COLUMN – THEREFORE YOU CAN’T ASSESS CLASSIFICATION PERFORMANCE USING THIS COLUMN \n",
        "\n"
      ]
    },
    {
      "metadata": {
        "id": "GtcVckygH0Qz",
        "colab_type": "code",
        "colab": {}
      },
      "cell_type": "code",
      "source": [
        "from pyspark.ml.clustering import KMeans\n",
        "\n",
        "clust = KMeans().setK(12).setSeed(6)"
      ],
      "execution_count": 0,
      "outputs": []
    },
    {
      "metadata": {
        "id": "DLn2BnRVH0Q1",
        "colab_type": "text"
      },
      "cell_type": "markdown",
      "source": [
        "Let’s train...\n"
      ]
    },
    {
      "metadata": {
        "id": "M3-F15drH0Q2",
        "colab_type": "code",
        "colab": {}
      },
      "cell_type": "code",
      "source": [
        "from pyspark.ml import Pipeline\n",
        "pipeline = Pipeline(stages=[vectorAssembler, clust])\n",
        "model = pipeline.fit(df)"
      ],
      "execution_count": 0,
      "outputs": []
    },
    {
      "metadata": {
        "id": "fIHAovVaH0Q5",
        "colab_type": "text"
      },
      "cell_type": "markdown",
      "source": [
        "...and evaluate..."
      ]
    },
    {
      "metadata": {
        "id": "RHG30tr4H0Q5",
        "colab_type": "code",
        "colab": {},
        "outputId": "3135a95f-6980-40a3-e9f1-af485cd14bf1"
      },
      "cell_type": "code",
      "source": [
        "prediction = model.transform(df)\n",
        "prediction.show()"
      ],
      "execution_count": 0,
      "outputs": [
        {
          "output_type": "stream",
          "text": [
            "+-----+--------+-----+-----+-----+--------------------+--------------------+-------------------+----------+\n",
            "|CLASS|SENSORID|    X|    Y|    Z|                 _id|                _rev|           features|prediction|\n",
            "+-----+--------+-----+-----+-----+--------------------+--------------------+-------------------+----------+\n",
            "|    1|aaaaaaaa|-0.01|-0.03|-0.09|3492765e6ac38cd24...|1-2c827a2b55caa1e...|[-0.01,-0.03,-0.09]|         0|\n",
            "|    1|aaaaaaaa|-0.01|  0.0| -0.1|3492765e6ac38cd24...|1-86ceff170907fc5...|   [-0.01,0.0,-0.1]|         0|\n",
            "|    1|aaaaaaaa| 0.01|  0.0|-0.07|3492765e6ac38cd24...|1-22ba2f3ccff5cde...|   [0.01,0.0,-0.07]|         0|\n",
            "|    1|aaaaaaaa|-0.01|  0.0|-0.08|3492765e6ac38cd24...|1-978a5470abb20cb...|  [-0.01,0.0,-0.08]|         0|\n",
            "|    1|aaaaaaaa| 0.01|  0.0|-0.06|3492765e6ac38cd24...|1-96f8550e65d9c9f...|   [0.01,0.0,-0.06]|         0|\n",
            "|    1|aaaaaaaa|  0.0|  0.0|-0.09|3492765e6ac38cd24...|1-1f5ca0558b17a16...|    [0.0,0.0,-0.09]|         0|\n",
            "|    1|aaaaaaaa| 0.01|  0.0|-0.07|3492765e6ac38cd24...|1-22ba2f3ccff5cde...|   [0.01,0.0,-0.07]|         0|\n",
            "|    1|aaaaaaaa|  0.0|  0.0|-0.07|3492765e6ac38cd24...|1-8fe62ca7a975b42...|    [0.0,0.0,-0.07]|         0|\n",
            "|    1|aaaaaaaa|  0.0|  0.0|-0.07|3492765e6ac38cd24...|1-8fe62ca7a975b42...|    [0.0,0.0,-0.07]|         0|\n",
            "|    1|aaaaaaaa|-0.01|  0.0|-0.08|3492765e6ac38cd24...|1-978a5470abb20cb...|  [-0.01,0.0,-0.08]|         0|\n",
            "|    1|aaaaaaaa|-0.01|  0.0|-0.07|3492765e6ac38cd24...|1-f832f3e3ebca79e...|  [-0.01,0.0,-0.07]|         0|\n",
            "|    1|aaaaaaaa|-0.01|  0.0|-0.08|3492765e6ac38cd24...|1-978a5470abb20cb...|  [-0.01,0.0,-0.08]|         0|\n",
            "|    1|aaaaaaaa|  0.0|  0.0|-0.03|3492765e6ac38cd24...|1-b97b1b727cf555a...|    [0.0,0.0,-0.03]|         0|\n",
            "|    1|aaaaaaaa|  0.0|  0.0|-0.07|3492765e6ac38cd24...|1-8fe62ca7a975b42...|    [0.0,0.0,-0.07]|         0|\n",
            "|    1|aaaaaaaa|  0.0|  0.0|-0.06|3492765e6ac38cd24...|1-d3b0e14168e40fe...|    [0.0,0.0,-0.06]|         0|\n",
            "|    1|aaaaaaaa|  0.0|  0.0|-0.07|3492765e6ac38cd24...|1-8fe62ca7a975b42...|    [0.0,0.0,-0.07]|         0|\n",
            "|    1|aaaaaaaa|  0.0|  0.0|-0.06|3492765e6ac38cd24...|1-d3b0e14168e40fe...|    [0.0,0.0,-0.06]|         0|\n",
            "|    1|aaaaaaaa|  0.0| 0.01|-0.07|3492765e6ac38cd24...|1-d68a173406aaee5...|   [0.0,0.01,-0.07]|         0|\n",
            "|    1|aaaaaaaa|  0.0| 0.01|-0.06|3492765e6ac38cd24...|1-7e1dc166132725a...|   [0.0,0.01,-0.06]|         0|\n",
            "|    1|aaaaaaaa|-0.01| 0.01|-0.04|3492765e6ac38cd24...|1-ef71fffeed77756...| [-0.01,0.01,-0.04]|         0|\n",
            "+-----+--------+-----+-----+-----+--------------------+--------------------+-------------------+----------+\n",
            "only showing top 20 rows\n",
            "\n"
          ],
          "name": "stdout"
        }
      ]
    },
    {
      "metadata": {
        "id": "maHzXFUKH0Q8",
        "colab_type": "code",
        "colab": {},
        "outputId": "1aeeb946-5c82-4523-d0a5-f6de5968ce55"
      },
      "cell_type": "code",
      "source": [
        "prediction.createOrReplaceTempView('prediction')\n",
        "spark.sql('''\n",
        "select max(correct)/max(total) as accuracy from (\n",
        "\n",
        "    select sum(correct) as correct, count(correct) as total from (\n",
        "        select case when class != prediction then 1 else 0 end as correct from prediction \n",
        "    ) \n",
        "    \n",
        "    union\n",
        "    \n",
        "    select sum(correct) as correct, count(correct) as total from (\n",
        "        select case when class = prediction then 1 else 0 end as correct from prediction \n",
        "    ) \n",
        ")\n",
        "''').rdd.map(lambda row: row.accuracy).collect()[0]"
      ],
      "execution_count": 0,
      "outputs": [
        {
          "output_type": "execute_result",
          "data": {
            "text/plain": [
              "0.6896778435239974"
            ]
          },
          "metadata": {
            "tags": []
          },
          "execution_count": 9
        }
      ]
    },
    {
      "metadata": {
        "id": "A4klVMmRH0Q_",
        "colab_type": "text"
      },
      "cell_type": "markdown",
      "source": [
        "If you reached at least 55% of accuracy you are fine to submit your predictions to the grader. Otherwise please experiment with parameters setting to your clustering algorithm, use a different algorithm or just re-record your data and try to obtain. In case you are stuck, please use the Coursera Discussion Forum. Please note again – in a real-world scenario there is no way in doing this – since there is no class label in your data. Please have a look at this further reading on clustering performance evaluation https://en.wikipedia.org/wiki/Cluster_analysis#Evaluation_and_assessment\n"
      ]
    },
    {
      "metadata": {
        "id": "JlDA6e4EH0RA",
        "colab_type": "code",
        "colab": {},
        "outputId": "82e7452d-c7ce-49ce-b7d5-60d7a8d61d09"
      },
      "cell_type": "code",
      "source": [
        "!rm -f rklib.py\n",
        "!wget https://raw.githubusercontent.com/romeokienzler/developerWorks/master/coursera/ai/rklib.py"
      ],
      "execution_count": 0,
      "outputs": [
        {
          "output_type": "stream",
          "text": [
            "--2019-02-11 01:55:13--  https://raw.githubusercontent.com/romeokienzler/developerWorks/master/coursera/ai/rklib.py\n",
            "Resolving raw.githubusercontent.com (raw.githubusercontent.com)... 151.101.48.133\n",
            "Connecting to raw.githubusercontent.com (raw.githubusercontent.com)|151.101.48.133|:443... connected.\n",
            "HTTP request sent, awaiting response... 200 OK\n",
            "Length: 2289 (2.2K) [text/plain]\n",
            "Saving to: ‘rklib.py’\n",
            "\n",
            "100%[======================================>] 2,289       --.-K/s   in 0s      \n",
            "\n",
            "2019-02-11 01:55:14 (17.5 MB/s) - ‘rklib.py’ saved [2289/2289]\n",
            "\n"
          ],
          "name": "stdout"
        }
      ]
    },
    {
      "metadata": {
        "id": "47dfvs30H0RD",
        "colab_type": "code",
        "colab": {}
      },
      "cell_type": "code",
      "source": [
        "prediction= prediction.repartition(1)\n",
        "prediction.write.json('a2_m3.json')"
      ],
      "execution_count": 0,
      "outputs": []
    },
    {
      "metadata": {
        "id": "CEv09UMRH0RG",
        "colab_type": "code",
        "colab": {},
        "outputId": "24ad6a33-e39a-46b5-81e7-34789d0986d2"
      },
      "cell_type": "code",
      "source": [
        "!zip -r a2_m3.json.zip a2_m3.json"
      ],
      "execution_count": 0,
      "outputs": [
        {
          "output_type": "stream",
          "text": [
            "  adding: a2_m3.json/ (stored 0%)\r\n",
            "  adding: a2_m3.json/_SUCCESS (stored 0%)\r\n",
            "  adding: a2_m3.json/._SUCCESS.crc (stored 0%)\r\n",
            "  adding: a2_m3.json/.part-00000-3c80bfc8-1134-43f9-b78b-e3de36985dd6.json.crc (stored 0%)\r\n",
            "  adding: a2_m3.json/part-00000-3c80bfc8-1134-43f9-b78b-e3de36985dd6.json (deflated 84%)\r\n"
          ],
          "name": "stdout"
        }
      ]
    },
    {
      "metadata": {
        "id": "NALxpMiaH0RK",
        "colab_type": "code",
        "colab": {}
      },
      "cell_type": "code",
      "source": [
        "!base64 a2_m3.json.zip > a2_m3.json.zip.base64"
      ],
      "execution_count": 0,
      "outputs": []
    },
    {
      "metadata": {
        "id": "YMJifTJfH0RO",
        "colab_type": "code",
        "colab": {},
        "outputId": "2f36018d-88f5-4e1c-feee-16b2788240d2"
      },
      "cell_type": "code",
      "source": [
        "from rklib import submit\n",
        "key = \"*****\"\n",
        "part = \"****\"\n",
        "email = \"annmargaret.tutu@icloud.com\"\n",
        "secret = \"*****\"\n",
        "\n",
        "with open('a2_m3.json.zip.base64', 'r') as myfile:\n",
        "    data=myfile.read()\n",
        "submit(email, secret, key, part, [part], data)"
      ],
      "execution_count": 0,
      "outputs": [
        {
          "output_type": "stream",
          "text": [
            "Submission successful, please check on the coursera grader page for the status\n",
            "-------------------------\n",
            "{\"elements\":[{\"itemId\":\"Cu6KW\",\"id\":\"f_F-qCtuEei_fRLwaVDk3g~Cu6KW~bXlRmC3SEemkyBLJ0_dFYg\",\"courseId\":\"f_F-qCtuEei_fRLwaVDk3g\"}],\"paging\":{},\"linked\":{}}\n",
            "-------------------------\n"
          ],
          "name": "stdout"
        }
      ]
    }
  ]
}