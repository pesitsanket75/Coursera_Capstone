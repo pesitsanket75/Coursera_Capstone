{
  "nbformat": 4,
  "nbformat_minor": 0,
  "metadata": {
    "colab": {
      "name": "c2-assignment2.ipynb",
      "version": "0.3.2",
      "provenance": []
    },
    "kernelspec": {
      "display_name": "Python 3.5 with Spark 2.1",
      "name": "python3-spark21",
      "language": "python"
    }
  },
  "cells": [
    {
      "metadata": {
        "id": "yZOA1BeGHUp2",
        "colab_type": "text"
      },
      "cell_type": "markdown",
      "source": [
        "This is the second assignment for the Coursera course \"Advanced Machine Learning and Signal Processing\"\n",
        "\n",
        "\n",
        "Just execute all cells one after the other and you are done - just note that in the last one you have to update your email address (the one you've used for coursera) and obtain a submission token, you get this from the programming assignment directly on coursera.\n",
        "\n",
        "Please fill in the sections labelled with \"###YOUR_CODE_GOES_HERE###\""
      ]
    },
    {
      "metadata": {
        "id": "ZqFGuHwRHUp4",
        "colab_type": "code",
        "colab": {}
      },
      "cell_type": "code",
      "source": [
        "credentials_1 = {'password':\"\"\"*****\"\"\",\n",
        "                 'custom_url':'*******',\n",
        "                 'username':'*****' }\n",
        "\n",
        "\n"
      ],
      "execution_count": 0,
      "outputs": []
    },
    {
      "metadata": {
        "id": "BvhexAgiHUp_",
        "colab_type": "text"
      },
      "cell_type": "markdown",
      "source": [
        "Let's create a SparkSession object and put the Cloudant credentials into it"
      ]
    },
    {
      "metadata": {
        "id": "1OSuRmNRHUqB",
        "colab_type": "code",
        "colab": {}
      },
      "cell_type": "code",
      "source": [
        "spark = SparkSession\\\n",
        "    .builder\\\n",
        "    .appName(\"Cloudant Spark SQL Example in Python using temp tables\")\\\n",
        "    .config(\"cloudant.host\",credentials_1['custom_url'].split('@')[1])\\\n",
        "    .config(\"cloudant.username\", credentials_1['username'])\\\n",
        "    .config(\"cloudant.password\",credentials_1['password'])\\\n",
        "    .getOrCreate()"
      ],
      "execution_count": 0,
      "outputs": []
    },
    {
      "metadata": {
        "id": "BVvQ96WVHUqJ",
        "colab_type": "text"
      },
      "cell_type": "markdown",
      "source": [
        "Now it’s time to have a look at the recorded sensor data. You should see data similar to the one exemplified below….\n"
      ]
    },
    {
      "metadata": {
        "id": "JH2Hag2YHUqK",
        "colab_type": "code",
        "colab": {},
        "outputId": "fbb3e5c3-839a-41b8-edf2-b02add8f0e9f"
      },
      "cell_type": "code",
      "source": [
        "df=spark.read.load('shake_classification', \"org.apache.bahir.cloudant\")\n",
        "\n",
        "df.createOrReplaceTempView(\"df\")\n",
        "spark.sql(\"SELECT * from df\").show()\n"
      ],
      "execution_count": 0,
      "outputs": [
        {
          "output_type": "stream",
          "text": [
            "+-----+--------+-----+-----+-----+--------------------+--------------------+\n",
            "|CLASS|SENSORID|    X|    Y|    Z|                 _id|                _rev|\n",
            "+-----+--------+-----+-----+-----+--------------------+--------------------+\n",
            "|    1|aaaaaaaa|-0.01|-0.03|-0.09|3492765e6ac38cd24...|1-2c827a2b55caa1e...|\n",
            "|    1|aaaaaaaa|-0.01|  0.0| -0.1|3492765e6ac38cd24...|1-86ceff170907fc5...|\n",
            "|    1|aaaaaaaa| 0.01|  0.0|-0.07|3492765e6ac38cd24...|1-22ba2f3ccff5cde...|\n",
            "|    1|aaaaaaaa|-0.01|  0.0|-0.08|3492765e6ac38cd24...|1-978a5470abb20cb...|\n",
            "|    1|aaaaaaaa| 0.01|  0.0|-0.06|3492765e6ac38cd24...|1-96f8550e65d9c9f...|\n",
            "|    1|aaaaaaaa|  0.0|  0.0|-0.09|3492765e6ac38cd24...|1-1f5ca0558b17a16...|\n",
            "|    1|aaaaaaaa| 0.01|  0.0|-0.07|3492765e6ac38cd24...|1-22ba2f3ccff5cde...|\n",
            "|    1|aaaaaaaa|  0.0|  0.0|-0.07|3492765e6ac38cd24...|1-8fe62ca7a975b42...|\n",
            "|    1|aaaaaaaa|  0.0|  0.0|-0.07|3492765e6ac38cd24...|1-8fe62ca7a975b42...|\n",
            "|    1|aaaaaaaa|-0.01|  0.0|-0.08|3492765e6ac38cd24...|1-978a5470abb20cb...|\n",
            "|    1|aaaaaaaa|-0.01|  0.0|-0.07|3492765e6ac38cd24...|1-f832f3e3ebca79e...|\n",
            "|    1|aaaaaaaa|-0.01|  0.0|-0.08|3492765e6ac38cd24...|1-978a5470abb20cb...|\n",
            "|    1|aaaaaaaa|  0.0|  0.0|-0.03|3492765e6ac38cd24...|1-b97b1b727cf555a...|\n",
            "|    1|aaaaaaaa|  0.0|  0.0|-0.07|3492765e6ac38cd24...|1-8fe62ca7a975b42...|\n",
            "|    1|aaaaaaaa|  0.0|  0.0|-0.06|3492765e6ac38cd24...|1-d3b0e14168e40fe...|\n",
            "|    1|aaaaaaaa|  0.0|  0.0|-0.07|3492765e6ac38cd24...|1-8fe62ca7a975b42...|\n",
            "|    1|aaaaaaaa|  0.0|  0.0|-0.06|3492765e6ac38cd24...|1-d3b0e14168e40fe...|\n",
            "|    1|aaaaaaaa|  0.0| 0.01|-0.07|3492765e6ac38cd24...|1-d68a173406aaee5...|\n",
            "|    1|aaaaaaaa|  0.0| 0.01|-0.06|3492765e6ac38cd24...|1-7e1dc166132725a...|\n",
            "|    1|aaaaaaaa|-0.01| 0.01|-0.04|3492765e6ac38cd24...|1-ef71fffeed77756...|\n",
            "+-----+--------+-----+-----+-----+--------------------+--------------------+\n",
            "only showing top 20 rows\n",
            "\n"
          ],
          "name": "stdout"
        }
      ]
    },
    {
      "metadata": {
        "id": "SnsuzpbbHUqR",
        "colab_type": "text"
      },
      "cell_type": "markdown",
      "source": [
        "Please create a VectorAssembler which consumed columns X, Y and Z and produces a column “features”\n"
      ]
    },
    {
      "metadata": {
        "id": "v39NnD52HUqS",
        "colab_type": "code",
        "colab": {}
      },
      "cell_type": "code",
      "source": [
        "from pyspark.ml.feature import VectorAssembler\n",
        "vectorAssembler = VectorAssembler(inputCols=[\"X\", \"Y\", \"Z\"], outputCol=\"features\")"
      ],
      "execution_count": 0,
      "outputs": []
    },
    {
      "metadata": {
        "id": "mUFIpc2oHUqZ",
        "colab_type": "text"
      },
      "cell_type": "markdown",
      "source": [
        "Please insatiate a classifier from the SparkML package and assign it to the classifier variable. Make sure to either\n",
        "1.\tRename the “CLASS” column to “label” or\n",
        "2.\tSpecify the label-column correctly to be “CLASS”\n"
      ]
    },
    {
      "metadata": {
        "id": "3ZZBNvJ5HUqa",
        "colab_type": "code",
        "colab": {}
      },
      "cell_type": "code",
      "source": [
        "from pyspark.ml.classification import GBTClassifier\n",
        "\n",
        "classifier = GBTClassifier(labelCol='CLASS', featuresCol='features', maxIter=10)\n",
        "\n"
      ],
      "execution_count": 0,
      "outputs": []
    },
    {
      "metadata": {
        "id": "_pXhQzDSHUqd",
        "colab_type": "text"
      },
      "cell_type": "markdown",
      "source": [
        "Let’s train and evaluate…\n"
      ]
    },
    {
      "metadata": {
        "id": "xMwr9ujsHUqf",
        "colab_type": "code",
        "colab": {}
      },
      "cell_type": "code",
      "source": [
        "from pyspark.ml import Pipeline\n",
        "pipeline = Pipeline(stages=[vectorAssembler, classifier])"
      ],
      "execution_count": 0,
      "outputs": []
    },
    {
      "metadata": {
        "id": "J9Xm22eFHUqh",
        "colab_type": "code",
        "colab": {}
      },
      "cell_type": "code",
      "source": [
        "model = pipeline.fit(df)"
      ],
      "execution_count": 0,
      "outputs": []
    },
    {
      "metadata": {
        "id": "2UxoCbRGHUqn",
        "colab_type": "code",
        "colab": {}
      },
      "cell_type": "code",
      "source": [
        "prediction = model.transform(df)"
      ],
      "execution_count": 0,
      "outputs": []
    },
    {
      "metadata": {
        "id": "BH0NDFDbHUqr",
        "colab_type": "code",
        "colab": {},
        "outputId": "cfa901aa-5103-427d-a372-a5d0cfc8a7cb"
      },
      "cell_type": "code",
      "source": [
        "prediction.show()"
      ],
      "execution_count": 0,
      "outputs": [
        {
          "output_type": "stream",
          "text": [
            "+-----+--------+-----+-----+-----+--------------------+--------------------+-------------------+----------+\n",
            "|CLASS|SENSORID|    X|    Y|    Z|                 _id|                _rev|           features|prediction|\n",
            "+-----+--------+-----+-----+-----+--------------------+--------------------+-------------------+----------+\n",
            "|    1|aaaaaaaa|-0.01|-0.03|-0.09|3492765e6ac38cd24...|1-2c827a2b55caa1e...|[-0.01,-0.03,-0.09]|       1.0|\n",
            "|    1|aaaaaaaa|-0.01|  0.0| -0.1|3492765e6ac38cd24...|1-86ceff170907fc5...|   [-0.01,0.0,-0.1]|       1.0|\n",
            "|    1|aaaaaaaa| 0.01|  0.0|-0.07|3492765e6ac38cd24...|1-22ba2f3ccff5cde...|   [0.01,0.0,-0.07]|       1.0|\n",
            "|    1|aaaaaaaa|-0.01|  0.0|-0.08|3492765e6ac38cd24...|1-978a5470abb20cb...|  [-0.01,0.0,-0.08]|       1.0|\n",
            "|    1|aaaaaaaa| 0.01|  0.0|-0.06|3492765e6ac38cd24...|1-96f8550e65d9c9f...|   [0.01,0.0,-0.06]|       1.0|\n",
            "|    1|aaaaaaaa|  0.0|  0.0|-0.09|3492765e6ac38cd24...|1-1f5ca0558b17a16...|    [0.0,0.0,-0.09]|       1.0|\n",
            "|    1|aaaaaaaa| 0.01|  0.0|-0.07|3492765e6ac38cd24...|1-22ba2f3ccff5cde...|   [0.01,0.0,-0.07]|       1.0|\n",
            "|    1|aaaaaaaa|  0.0|  0.0|-0.07|3492765e6ac38cd24...|1-8fe62ca7a975b42...|    [0.0,0.0,-0.07]|       1.0|\n",
            "|    1|aaaaaaaa|  0.0|  0.0|-0.07|3492765e6ac38cd24...|1-8fe62ca7a975b42...|    [0.0,0.0,-0.07]|       1.0|\n",
            "|    1|aaaaaaaa|-0.01|  0.0|-0.08|3492765e6ac38cd24...|1-978a5470abb20cb...|  [-0.01,0.0,-0.08]|       1.0|\n",
            "|    1|aaaaaaaa|-0.01|  0.0|-0.07|3492765e6ac38cd24...|1-f832f3e3ebca79e...|  [-0.01,0.0,-0.07]|       1.0|\n",
            "|    1|aaaaaaaa|-0.01|  0.0|-0.08|3492765e6ac38cd24...|1-978a5470abb20cb...|  [-0.01,0.0,-0.08]|       1.0|\n",
            "|    1|aaaaaaaa|  0.0|  0.0|-0.03|3492765e6ac38cd24...|1-b97b1b727cf555a...|    [0.0,0.0,-0.03]|       0.0|\n",
            "|    1|aaaaaaaa|  0.0|  0.0|-0.07|3492765e6ac38cd24...|1-8fe62ca7a975b42...|    [0.0,0.0,-0.07]|       1.0|\n",
            "|    1|aaaaaaaa|  0.0|  0.0|-0.06|3492765e6ac38cd24...|1-d3b0e14168e40fe...|    [0.0,0.0,-0.06]|       1.0|\n",
            "|    1|aaaaaaaa|  0.0|  0.0|-0.07|3492765e6ac38cd24...|1-8fe62ca7a975b42...|    [0.0,0.0,-0.07]|       1.0|\n",
            "|    1|aaaaaaaa|  0.0|  0.0|-0.06|3492765e6ac38cd24...|1-d3b0e14168e40fe...|    [0.0,0.0,-0.06]|       1.0|\n",
            "|    1|aaaaaaaa|  0.0| 0.01|-0.07|3492765e6ac38cd24...|1-d68a173406aaee5...|   [0.0,0.01,-0.07]|       1.0|\n",
            "|    1|aaaaaaaa|  0.0| 0.01|-0.06|3492765e6ac38cd24...|1-7e1dc166132725a...|   [0.0,0.01,-0.06]|       1.0|\n",
            "|    1|aaaaaaaa|-0.01| 0.01|-0.04|3492765e6ac38cd24...|1-ef71fffeed77756...| [-0.01,0.01,-0.04]|       1.0|\n",
            "+-----+--------+-----+-----+-----+--------------------+--------------------+-------------------+----------+\n",
            "only showing top 20 rows\n",
            "\n"
          ],
          "name": "stdout"
        }
      ]
    },
    {
      "metadata": {
        "id": "1JLVz9UDHUqz",
        "colab_type": "code",
        "colab": {},
        "outputId": "15c9cee2-2477-4328-c762-22faf842b777"
      },
      "cell_type": "code",
      "source": [
        "from pyspark.ml.evaluation import MulticlassClassificationEvaluator\n",
        "binEval = MulticlassClassificationEvaluator().setMetricName(\"accuracy\") .setPredictionCol(\"prediction\").setLabelCol(\"CLASS\")\n",
        "    \n",
        "binEval.evaluate(prediction) "
      ],
      "execution_count": 0,
      "outputs": [
        {
          "output_type": "execute_result",
          "data": {
            "text/plain": [
              "0.8612754766600921"
            ]
          },
          "metadata": {
            "tags": []
          },
          "execution_count": 11
        }
      ]
    },
    {
      "metadata": {
        "id": "c-jcSNCgHUrC",
        "colab_type": "text"
      },
      "cell_type": "markdown",
      "source": [
        "If you are happy with the result (I’m happy with > 0.55) please submit your solution to the grader by executing the following cells, please don’t forget to obtain an assignment submission token (secret) from the Courera’s graders web page and paste it to the “secret” variable below, including your email address you’ve used for Coursera. (0.55 means that you are performing better than random guesses)\n"
      ]
    },
    {
      "metadata": {
        "id": "EHSjabxbHUrD",
        "colab_type": "code",
        "colab": {}
      },
      "cell_type": "code",
      "source": [
        "!rm -Rf a2_m2.parquet"
      ],
      "execution_count": 0,
      "outputs": []
    },
    {
      "metadata": {
        "id": "5cimWqaWHUrH",
        "colab_type": "code",
        "colab": {}
      },
      "cell_type": "code",
      "source": [
        "prediction = prediction.repartition(1)\n",
        "prediction.write.json('a2_m2.json')"
      ],
      "execution_count": 0,
      "outputs": []
    },
    {
      "metadata": {
        "id": "KGD6Ux-0HUrL",
        "colab_type": "code",
        "colab": {},
        "outputId": "f15c0eed-3bf8-4904-97ea-308ce21aa0dd"
      },
      "cell_type": "code",
      "source": [
        "!rm -f rklib.py\n",
        "!wget https://raw.githubusercontent.com/romeokienzler/developerWorks/master/coursera/ai/rklib.py"
      ],
      "execution_count": 0,
      "outputs": [
        {
          "output_type": "stream",
          "text": [
            "--2019-02-10 19:55:42--  https://raw.githubusercontent.com/romeokienzler/developerWorks/master/coursera/ai/rklib.py\n",
            "Resolving raw.githubusercontent.com (raw.githubusercontent.com)... 151.101.48.133\n",
            "Connecting to raw.githubusercontent.com (raw.githubusercontent.com)|151.101.48.133|:443... connected.\n",
            "HTTP request sent, awaiting response... 200 OK\n",
            "Length: 2289 (2.2K) [text/plain]\n",
            "Saving to: ‘rklib.py’\n",
            "\n",
            "100%[======================================>] 2,289       --.-K/s   in 0s      \n",
            "\n",
            "2019-02-10 19:55:43 (21.2 MB/s) - ‘rklib.py’ saved [2289/2289]\n",
            "\n"
          ],
          "name": "stdout"
        }
      ]
    },
    {
      "metadata": {
        "id": "kme0Q7m1HUrR",
        "colab_type": "code",
        "colab": {},
        "outputId": "ac9dea74-9991-4aa9-f3b2-0b85af7b0ea3"
      },
      "cell_type": "code",
      "source": [
        "!zip -r a2_m2.json.zip a2_m2.json"
      ],
      "execution_count": 0,
      "outputs": [
        {
          "output_type": "stream",
          "text": [
            "  adding: a2_m2.json/ (stored 0%)\r\n",
            "  adding: a2_m2.json/.part-00000-7c46e53a-8e60-4ca8-8cb8-08fe69b9092f.json.crc (stored 0%)\r\n",
            "  adding: a2_m2.json/_SUCCESS (stored 0%)\r\n",
            "  adding: a2_m2.json/part-00000-7c46e53a-8e60-4ca8-8cb8-08fe69b9092f.json (deflated 84%)\r\n",
            "  adding: a2_m2.json/._SUCCESS.crc (stored 0%)\r\n"
          ],
          "name": "stdout"
        }
      ]
    },
    {
      "metadata": {
        "id": "3r9cBxHgHUrZ",
        "colab_type": "code",
        "colab": {}
      },
      "cell_type": "code",
      "source": [
        "!base64 a2_m2.json.zip > a2_m2.json.zip.base64"
      ],
      "execution_count": 0,
      "outputs": []
    },
    {
      "metadata": {
        "id": "RfGfHRp0HUrf",
        "colab_type": "code",
        "colab": {},
        "outputId": "2c44ba27-4fc1-48af-e29e-912fc0eb4915"
      },
      "cell_type": "code",
      "source": [
        "from rklib import submit\n",
        "key = \"******\"\n",
        "part = \"*****\"\n",
        "email = \"annmargaret.tutu@icloud.com\"\n",
        "secret = \"******\"\n",
        "\n",
        "with open('a2_m2.json.zip.base64', 'r') as myfile:\n",
        "    data=myfile.read()\n",
        "submit(email, secret, key, part, [part], data)"
      ],
      "execution_count": 0,
      "outputs": [
        {
          "output_type": "stream",
          "text": [
            "Submission successful, please check on the coursera grader page for the status\n",
            "-------------------------\n",
            "{\"elements\":[{\"itemId\":\"LTL4F\",\"id\":\"f_F-qCtuEei_fRLwaVDk3g~LTL4F~LhBUQi2gEem1YxJomMervg\",\"courseId\":\"f_F-qCtuEei_fRLwaVDk3g\"}],\"paging\":{},\"linked\":{}}\n",
            "-------------------------\n"
          ],
          "name": "stdout"
        }
      ]
    }
  ]
}